{
 "cells": [
  {
   "cell_type": "markdown",
   "id": "2b070b93",
   "metadata": {},
   "source": [
    "# HW1-1\n",
    "和image資料夾放在同一個資料夾底下"
   ]
  },
  {
   "cell_type": "code",
   "execution_count": 1,
   "id": "7aed5441",
   "metadata": {},
   "outputs": [
    {
     "name": "stdout",
     "output_type": "stream",
     "text": [
      "請選擇想顯示之圖片編號(1-20):15\n"
     ]
    }
   ],
   "source": [
    "getRightNumber = False\n",
    "while not getRightNumber:\n",
    "    try:\n",
    "        number = int(input(\"請選擇想顯示之圖片編號(1-20):\"))\n",
    "        getRightNumber = True if number >=1 and number <= 20 else False\n",
    "        if not getRightNumber:\n",
    "            print(\"請輸入1-20的數字\")\n",
    "    except ValueError:\n",
    "        print(\"請輸入一個數字\")"
   ]
  },
  {
   "cell_type": "code",
   "execution_count": 2,
   "id": "e8013a98",
   "metadata": {},
   "outputs": [
    {
     "name": "stdout",
     "output_type": "stream",
     "text": [
      "取得圖片15\n"
     ]
    },
    {
     "ename": "ModuleNotFoundError",
     "evalue": "No module named 'matplotlib'",
     "output_type": "error",
     "traceback": [
      "\u001b[1;31m---------------------------------------------------------------------------\u001b[0m",
      "\u001b[1;31mModuleNotFoundError\u001b[0m                       Traceback (most recent call last)",
      "Input \u001b[1;32mIn [2]\u001b[0m, in \u001b[0;36m<cell line: 2>\u001b[1;34m()\u001b[0m\n\u001b[0;32m      1\u001b[0m \u001b[38;5;28mprint\u001b[39m(\u001b[38;5;124m\"\u001b[39m\u001b[38;5;124m取得圖片\u001b[39m\u001b[38;5;124m\"\u001b[39m\u001b[38;5;241m+\u001b[39m\u001b[38;5;28mstr\u001b[39m(number))\n\u001b[1;32m----> 2\u001b[0m \u001b[38;5;28;01mimport\u001b[39;00m \u001b[38;5;21;01mmatplotlib\u001b[39;00m\u001b[38;5;21;01m.\u001b[39;00m\u001b[38;5;21;01mpyplot\u001b[39;00m \u001b[38;5;28;01mas\u001b[39;00m \u001b[38;5;21;01mplt\u001b[39;00m\n\u001b[0;32m      3\u001b[0m \u001b[38;5;28;01mimport\u001b[39;00m \u001b[38;5;21;01mnumpy\u001b[39;00m \u001b[38;5;28;01mas\u001b[39;00m \u001b[38;5;21;01mnp\u001b[39;00m\n\u001b[0;32m      4\u001b[0m get_ipython()\u001b[38;5;241m.\u001b[39mrun_line_magic(\u001b[38;5;124m'\u001b[39m\u001b[38;5;124mmatplotlib\u001b[39m\u001b[38;5;124m'\u001b[39m, \u001b[38;5;124m'\u001b[39m\u001b[38;5;124minline\u001b[39m\u001b[38;5;124m'\u001b[39m)\n",
      "\u001b[1;31mModuleNotFoundError\u001b[0m: No module named 'matplotlib'"
     ]
    }
   ],
   "source": [
    "print(\"取得圖片\"+str(number))\n",
    "import matplotlib.pyplot as plt\n",
    "import numpy as np\n",
    "%matplotlib inline\n",
    "from PIL import Image\n",
    "img = Image.open('HW1 image/test/pic'+str(number) + '.jpg')\n",
    "plt.axis('off')\n",
    "plt.imshow(img)"
   ]
  },
  {
   "cell_type": "code",
   "execution_count": null,
   "id": "25b34a7c",
   "metadata": {},
   "outputs": [],
   "source": [
    "print(\"重新設定Size為64*64\")\n",
    "targetImg = img.resize((64,64))\n",
    "plt.axis('off')\n",
    "plt.imshow(targetImg)\n",
    "targetImgPix = np.array(targetImg,dtype = int)"
   ]
  },
  {
   "cell_type": "code",
   "execution_count": null,
   "id": "8e81b0fb",
   "metadata": {
    "scrolled": true
   },
   "outputs": [],
   "source": [
    "def getReferenceImg(num, animal = 'cat'):\n",
    "    try:\n",
    "        return Image.open('HW1 image/reference/' + animal + 's/' + animal + '.' + str(num) + '.jpg').resize((64,64))\n",
    "    except:\n",
    "        print('HW1 image/reference/' + animal + 's/' + animal + '.' + str(num) + '.jpg', \"is lost.\")\n",
    "        return Image.open('HW1 image/test/pic'+str(number) + '.jpg').resize((64,64))\n",
    "\n",
    "data = [np.array(getReferenceImg(i)) for i in range(1,51)] + [np.array(getReferenceImg(i, animal = 'dog'), dtype = int) for i in range(1,51)]\n",
    "result = [int((np.abs(targetImgPix - data[i])).sum(axis = 0).sum(axis = 0).sum(axis = 0)) for i in range(len(data))]\n",
    "targetIndex = [0,1,2]\n",
    "for i in range(3, len(result)):\n",
    "    if result[targetIndex[0]] > result[i] and result[i]:\n",
    "        targetIndex[0] = i\n",
    "    elif result[targetIndex[1]] > result[i] and result[i]:\n",
    "        targetIndex[1] = i\n",
    "    elif result[targetIndex[2]] > result[i] and result[i]:\n",
    "        targetIndex[2] = i\n",
    "\n",
    "final1 = getReferenceImg(targetIndex[0] + 1  if targetIndex[0] < 50 else targetIndex[0] - 49, animal = 'cat' if targetIndex[0] < 50 else 'dog')\n",
    "plt.axis('off')\n",
    "plt.imshow(final1)\n",
    "\n"
   ]
  },
  {
   "cell_type": "code",
   "execution_count": null,
   "id": "7c315d96",
   "metadata": {},
   "outputs": [],
   "source": [
    "final2 = getReferenceImg(targetIndex[1] + 1  if targetIndex[1] < 50 else targetIndex[1] - 49, animal = 'cat' if targetIndex[1] < 50 else 'dog')\n",
    "plt.axis('off')\n",
    "plt.imshow(final2)\n",
    "\n"
   ]
  },
  {
   "cell_type": "code",
   "execution_count": null,
   "id": "43d126e3",
   "metadata": {
    "scrolled": true
   },
   "outputs": [],
   "source": [
    "final3 = getReferenceImg(targetIndex[2] + 1  if targetIndex[2] < 50 else targetIndex[2] - 49, animal = 'cat' if targetIndex[2] < 50 else 'dog')\n",
    "plt.axis('off')\n",
    "plt.imshow(final3)"
   ]
  },
  {
   "cell_type": "code",
   "execution_count": null,
   "id": "343d06a2",
   "metadata": {},
   "outputs": [],
   "source": [
    "numCat = 0\n",
    "for i in targetIndex:\n",
    "    numCat += i < 50\n",
    "print(\"圖片\"+str(number)+\"判斷為\"+(\"貓\" if numCat >= 2 else \"狗\"))"
   ]
  },
  {
   "cell_type": "markdown",
   "id": "fb4ace1d",
   "metadata": {},
   "source": [
    "# 討論此一判斷所選擇之圖片是貓還是狗的方式可能的問題\n",
    "此方法之判斷方法為和資料庫當中的其他照片進行像素之間的比較\n",
    "\n",
    "我認為這種方法會有幾個問題\n",
    "\n",
    "* 1.受到背景影響\n",
    "\n",
    "    每一張照片中動物所在的位置不一定相同，依照像素比較的方法可能會出現動物和背景或其他要素比較的情況\n",
    "\n",
    "\n",
    "* 2.受到品種影響\n",
    "\n",
    "    目前的判斷方法種要以顏色為主，然而貓狗之間的判斷並非以顏色為主，可能會出現兩張都是以黑色的動物，但其中一張為狗另一張為貓的情況\n",
    "    \n",
    "\n",
    "* 3.受到資料庫的影響\n",
    "\n",
    "    如果出現資料庫當中沒有類似照片的情況，就會導致無法判斷的情況"
   ]
  },
  {
   "cell_type": "code",
   "execution_count": null,
   "id": "80a0e0aa",
   "metadata": {},
   "outputs": [],
   "source": []
  }
 ],
 "metadata": {
  "kernelspec": {
   "display_name": "Python 3 (ipykernel)",
   "language": "python",
   "name": "python3"
  },
  "language_info": {
   "codemirror_mode": {
    "name": "ipython",
    "version": 3
   },
   "file_extension": ".py",
   "mimetype": "text/x-python",
   "name": "python",
   "nbconvert_exporter": "python",
   "pygments_lexer": "ipython3",
   "version": "3.9.13"
  }
 },
 "nbformat": 4,
 "nbformat_minor": 5
}
